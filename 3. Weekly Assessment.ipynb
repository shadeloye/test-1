{
 "cells": [
  {
   "cell_type": "markdown",
   "id": "690cc781",
   "metadata": {},
   "source": [
    "<img src=\"LaeCodes.png\" \n",
    "align=\"center\" \n",
    "width=\"100\" />"
   ]
  },
  {
   "cell_type": "markdown",
   "id": "1c3b51a5",
   "metadata": {},
   "source": [
    "# Weekly Assessment:"
   ]
  },
  {
   "cell_type": "markdown",
   "id": "fec769c9",
   "metadata": {},
   "source": [
    "1. What is file handling in Python?\n",
    "2. How do you open a file in Python?\n",
    "3. What are the different modes in which you can open a file in Python?\n",
    "4. What is the difference between \"r\", \"w\", and \"a\" modes when opening a file?\n",
    "5. How do you close a file in Python?\n",
    "6. What is file handling in Python?\n",
    "7. How do you open a file in Python?\n",
    "8. What are the different modes in which you can open a file in Python?\n",
    "9. What is the difference between \"r\", \"w\", and \"a\" modes when opening a file?\n",
    "10. How do you close a file in Python?\n",
    "11. How do you handle errors that may occur during file operations in Python?"
   ]
  }
 ],
 "metadata": {
  "kernelspec": {
   "display_name": "Python 3 (ipykernel)",
   "language": "python",
   "name": "python3"
  },
  "language_info": {
   "codemirror_mode": {
    "name": "ipython",
    "version": 3
   },
   "file_extension": ".py",
   "mimetype": "text/x-python",
   "name": "python",
   "nbconvert_exporter": "python",
   "pygments_lexer": "ipython3",
   "version": "3.11.5"
  }
 },
 "nbformat": 4,
 "nbformat_minor": 5
}
